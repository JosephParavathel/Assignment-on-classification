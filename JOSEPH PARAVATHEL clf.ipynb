{
 "cells": [
  {
   "cell_type": "markdown",
   "id": "71ad647d",
   "metadata": {},
   "source": [
    "## Importing the necessary libraries."
   ]
  },
  {
   "cell_type": "code",
   "execution_count": 1,
   "id": "925595c9",
   "metadata": {},
   "outputs": [],
   "source": [
    "import numpy as np\n",
    "import pandas as pd\n",
    "import matplotlib.pyplot as plt\n",
    "import seaborn as sns"
   ]
  },
  {
   "cell_type": "markdown",
   "id": "2d3aa4bb",
   "metadata": {},
   "source": [
    "## Loading the Dataset."
   ]
  },
  {
   "cell_type": "code",
   "execution_count": 2,
   "id": "0407aa75",
   "metadata": {},
   "outputs": [],
   "source": [
    "data=pd.read_excel(r\"C:\\Users\\HP\\Downloads\\iris (2).xls\")"
   ]
  },
  {
   "cell_type": "code",
   "execution_count": 3,
   "id": "b7b05b87",
   "metadata": {},
   "outputs": [
    {
     "data": {
      "text/html": [
       "<div>\n",
       "<style scoped>\n",
       "    .dataframe tbody tr th:only-of-type {\n",
       "        vertical-align: middle;\n",
       "    }\n",
       "\n",
       "    .dataframe tbody tr th {\n",
       "        vertical-align: top;\n",
       "    }\n",
       "\n",
       "    .dataframe thead th {\n",
       "        text-align: right;\n",
       "    }\n",
       "</style>\n",
       "<table border=\"1\" class=\"dataframe\">\n",
       "  <thead>\n",
       "    <tr style=\"text-align: right;\">\n",
       "      <th></th>\n",
       "      <th>SL</th>\n",
       "      <th>SW</th>\n",
       "      <th>PL</th>\n",
       "      <th>PW</th>\n",
       "      <th>Classification</th>\n",
       "    </tr>\n",
       "  </thead>\n",
       "  <tbody>\n",
       "    <tr>\n",
       "      <th>0</th>\n",
       "      <td>5.1</td>\n",
       "      <td>3.5</td>\n",
       "      <td>1.4</td>\n",
       "      <td>0.2</td>\n",
       "      <td>Iris-setosa</td>\n",
       "    </tr>\n",
       "    <tr>\n",
       "      <th>1</th>\n",
       "      <td>4.9</td>\n",
       "      <td>3.0</td>\n",
       "      <td>1.4</td>\n",
       "      <td>0.2</td>\n",
       "      <td>Iris-setosa</td>\n",
       "    </tr>\n",
       "    <tr>\n",
       "      <th>2</th>\n",
       "      <td>NaN</td>\n",
       "      <td>3.2</td>\n",
       "      <td>1.3</td>\n",
       "      <td>0.2</td>\n",
       "      <td>Iris-setosa</td>\n",
       "    </tr>\n",
       "    <tr>\n",
       "      <th>3</th>\n",
       "      <td>4.6</td>\n",
       "      <td>3.1</td>\n",
       "      <td>1.5</td>\n",
       "      <td>0.2</td>\n",
       "      <td>Iris-setosa</td>\n",
       "    </tr>\n",
       "    <tr>\n",
       "      <th>4</th>\n",
       "      <td>5.0</td>\n",
       "      <td>3.6</td>\n",
       "      <td>1.4</td>\n",
       "      <td>0.2</td>\n",
       "      <td>Iris-setosa</td>\n",
       "    </tr>\n",
       "    <tr>\n",
       "      <th>5</th>\n",
       "      <td>5.4</td>\n",
       "      <td>3.9</td>\n",
       "      <td>1.7</td>\n",
       "      <td>0.4</td>\n",
       "      <td>Iris-setosa</td>\n",
       "    </tr>\n",
       "  </tbody>\n",
       "</table>\n",
       "</div>"
      ],
      "text/plain": [
       "    SL   SW   PL   PW Classification\n",
       "0  5.1  3.5  1.4  0.2    Iris-setosa\n",
       "1  4.9  3.0  1.4  0.2    Iris-setosa\n",
       "2  NaN  3.2  1.3  0.2    Iris-setosa\n",
       "3  4.6  3.1  1.5  0.2    Iris-setosa\n",
       "4  5.0  3.6  1.4  0.2    Iris-setosa\n",
       "5  5.4  3.9  1.7  0.4    Iris-setosa"
      ]
     },
     "execution_count": 3,
     "metadata": {},
     "output_type": "execute_result"
    }
   ],
   "source": [
    "data.head(6)"
   ]
  },
  {
   "cell_type": "markdown",
   "id": "e15b5e94",
   "metadata": {},
   "source": [
    "## Data Analysis"
   ]
  },
  {
   "cell_type": "code",
   "execution_count": 4,
   "id": "503d6f5b",
   "metadata": {},
   "outputs": [
    {
     "data": {
      "text/plain": [
       "(150, 5)"
      ]
     },
     "execution_count": 4,
     "metadata": {},
     "output_type": "execute_result"
    }
   ],
   "source": [
    "data.shape                    #Dataset has 150 rows and 5 columns."
   ]
  },
  {
   "cell_type": "code",
   "execution_count": 5,
   "id": "19a629f1",
   "metadata": {},
   "outputs": [
    {
     "data": {
      "text/html": [
       "<div>\n",
       "<style scoped>\n",
       "    .dataframe tbody tr th:only-of-type {\n",
       "        vertical-align: middle;\n",
       "    }\n",
       "\n",
       "    .dataframe tbody tr th {\n",
       "        vertical-align: top;\n",
       "    }\n",
       "\n",
       "    .dataframe thead th {\n",
       "        text-align: right;\n",
       "    }\n",
       "</style>\n",
       "<table border=\"1\" class=\"dataframe\">\n",
       "  <thead>\n",
       "    <tr style=\"text-align: right;\">\n",
       "      <th></th>\n",
       "      <th>SL</th>\n",
       "      <th>SW</th>\n",
       "      <th>PL</th>\n",
       "      <th>PW</th>\n",
       "    </tr>\n",
       "  </thead>\n",
       "  <tbody>\n",
       "    <tr>\n",
       "      <th>count</th>\n",
       "      <td>143.000000</td>\n",
       "      <td>144.000000</td>\n",
       "      <td>144.000000</td>\n",
       "      <td>150.000000</td>\n",
       "    </tr>\n",
       "    <tr>\n",
       "      <th>mean</th>\n",
       "      <td>5.855944</td>\n",
       "      <td>3.049306</td>\n",
       "      <td>3.756250</td>\n",
       "      <td>1.198667</td>\n",
       "    </tr>\n",
       "    <tr>\n",
       "      <th>std</th>\n",
       "      <td>0.828168</td>\n",
       "      <td>0.430644</td>\n",
       "      <td>1.761306</td>\n",
       "      <td>0.763161</td>\n",
       "    </tr>\n",
       "    <tr>\n",
       "      <th>min</th>\n",
       "      <td>4.300000</td>\n",
       "      <td>2.000000</td>\n",
       "      <td>1.000000</td>\n",
       "      <td>0.100000</td>\n",
       "    </tr>\n",
       "    <tr>\n",
       "      <th>25%</th>\n",
       "      <td>5.100000</td>\n",
       "      <td>2.800000</td>\n",
       "      <td>1.600000</td>\n",
       "      <td>0.300000</td>\n",
       "    </tr>\n",
       "    <tr>\n",
       "      <th>50%</th>\n",
       "      <td>5.800000</td>\n",
       "      <td>3.000000</td>\n",
       "      <td>4.350000</td>\n",
       "      <td>1.300000</td>\n",
       "    </tr>\n",
       "    <tr>\n",
       "      <th>75%</th>\n",
       "      <td>6.400000</td>\n",
       "      <td>3.300000</td>\n",
       "      <td>5.100000</td>\n",
       "      <td>1.800000</td>\n",
       "    </tr>\n",
       "    <tr>\n",
       "      <th>max</th>\n",
       "      <td>7.900000</td>\n",
       "      <td>4.400000</td>\n",
       "      <td>6.900000</td>\n",
       "      <td>2.500000</td>\n",
       "    </tr>\n",
       "  </tbody>\n",
       "</table>\n",
       "</div>"
      ],
      "text/plain": [
       "               SL          SW          PL          PW\n",
       "count  143.000000  144.000000  144.000000  150.000000\n",
       "mean     5.855944    3.049306    3.756250    1.198667\n",
       "std      0.828168    0.430644    1.761306    0.763161\n",
       "min      4.300000    2.000000    1.000000    0.100000\n",
       "25%      5.100000    2.800000    1.600000    0.300000\n",
       "50%      5.800000    3.000000    4.350000    1.300000\n",
       "75%      6.400000    3.300000    5.100000    1.800000\n",
       "max      7.900000    4.400000    6.900000    2.500000"
      ]
     },
     "execution_count": 5,
     "metadata": {},
     "output_type": "execute_result"
    }
   ],
   "source": [
    "data.describe()              #Checking statistical summary."
   ]
  },
  {
   "cell_type": "code",
   "execution_count": 6,
   "id": "d9020272",
   "metadata": {},
   "outputs": [
    {
     "name": "stdout",
     "output_type": "stream",
     "text": [
      "<class 'pandas.core.frame.DataFrame'>\n",
      "RangeIndex: 150 entries, 0 to 149\n",
      "Data columns (total 5 columns):\n",
      " #   Column          Non-Null Count  Dtype  \n",
      "---  ------          --------------  -----  \n",
      " 0   SL              143 non-null    float64\n",
      " 1   SW              144 non-null    float64\n",
      " 2   PL              144 non-null    float64\n",
      " 3   PW              150 non-null    float64\n",
      " 4   Classification  150 non-null    object \n",
      "dtypes: float64(4), object(1)\n",
      "memory usage: 6.0+ KB\n"
     ]
    }
   ],
   "source": [
    "data.info()               "
   ]
  },
  {
   "cell_type": "code",
   "execution_count": 7,
   "id": "ed28df36",
   "metadata": {},
   "outputs": [
    {
     "data": {
      "text/plain": [
       "SL                float64\n",
       "SW                float64\n",
       "PL                float64\n",
       "PW                float64\n",
       "Classification     object\n",
       "dtype: object"
      ]
     },
     "execution_count": 7,
     "metadata": {},
     "output_type": "execute_result"
    }
   ],
   "source": [
    "data.dtypes                 #Dataset has 4 numerical features and 1 categorical feature."
   ]
  },
  {
   "cell_type": "markdown",
   "id": "cffa5eca",
   "metadata": {},
   "source": [
    "### Checking for null values."
   ]
  },
  {
   "cell_type": "code",
   "execution_count": 8,
   "id": "3736fc7d",
   "metadata": {},
   "outputs": [
    {
     "data": {
      "text/plain": [
       "SL                7\n",
       "SW                6\n",
       "PL                6\n",
       "PW                0\n",
       "Classification    0\n",
       "dtype: int64"
      ]
     },
     "execution_count": 8,
     "metadata": {},
     "output_type": "execute_result"
    }
   ],
   "source": [
    "data.isnull().sum()               #So columns 'Sepal length','Sepal width','Petal length' has null values."
   ]
  },
  {
   "cell_type": "markdown",
   "id": "404aa065",
   "metadata": {},
   "source": [
    "##### Plotting the distribution of numerical features."
   ]
  },
  {
   "cell_type": "code",
   "execution_count": 9,
   "id": "e9d695d4",
   "metadata": {},
   "outputs": [],
   "source": [
    "numerical_features=[feature for feature in data.columns if data[feature].dtypes != 'O']"
   ]
  },
  {
   "cell_type": "code",
   "execution_count": 10,
   "id": "32d8e34e",
   "metadata": {},
   "outputs": [
    {
     "data": {
      "text/plain": [
       "['SL', 'SW', 'PL', 'PW']"
      ]
     },
     "execution_count": 10,
     "metadata": {},
     "output_type": "execute_result"
    }
   ],
   "source": [
    "numerical_features"
   ]
  },
  {
   "cell_type": "code",
   "execution_count": 11,
   "id": "759fa4ec",
   "metadata": {},
   "outputs": [
    {
     "data": {
      "image/png": "[encoded data removed]",
      "text/plain": [
       "<Figure size 600x500 with 1 Axes>"
      ]
     },
     "metadata": {},
     "output_type": "display_data"
    },
    {
     "data": {
      "image/png": "[encoded data removed]",
      "text/plain": [
       "<Figure size 600x500 with 1 Axes>"
      ]
     },
     "metadata": {},
     "output_type": "display_data"
    },
    {
     "data": {
      "image/png": "[encoded data removed]",
      "text/plain": [
       "<Figure size 600x500 with 1 Axes>"
      ]
     },
     "metadata": {},
     "output_type": "display_data"
    },
    {
     "data": {
      "image/png": "[encoded data removed]",
      "text/plain": [
       "<Figure size 600x500 with 1 Axes>"
      ]
     },
     "metadata": {},
     "output_type": "display_data"
    }
   ],
   "source": [
    "for feature in numerical_features:\n",
    "    \n",
    "    plt.figure(figsize=(6,5))\n",
    "    plt.hist(data[feature])\n",
    "    plt.title(feature)\n"
   ]
  },
  {
   "cell_type": "markdown",
   "id": "76aced17",
   "metadata": {},
   "source": [
    "INFERENCE:\"SL\",\"PL\",\"Pw\" has skewed distribution.And \"SW\" has normal distribution.\n",
    "So null values of \"SL\",and \"PL\" can filled with median values.\n",
    "\n"
   ]
  },
  {
   "cell_type": "code",
   "execution_count": 13,
   "id": "21eb2f51",
   "metadata": {},
   "outputs": [
    {
     "data": {
      "text/plain": [
       "Iris-setosa        50\n",
       "Iris-versicolor    50\n",
       "Iris-virginica     50\n",
       "Name: Classification, dtype: int64"
      ]
     },
     "execution_count": 13,
     "metadata": {},
     "output_type": "execute_result"
    }
   ],
   "source": [
    "#checking the cardinality of categorical columns.\n",
    "\n",
    "data['Classification'].value_counts()"
   ]
  },
  {
   "cell_type": "markdown",
   "id": "80f7f33c",
   "metadata": {},
   "source": [
    "## Data Preprocessing"
   ]
  },
  {
   "cell_type": "markdown",
   "id": "a3ba6ba4",
   "metadata": {},
   "source": [
    "###### Filling the null values."
   ]
  },
  {
   "cell_type": "code",
   "execution_count": 14,
   "id": "cbbc67dc",
   "metadata": {},
   "outputs": [],
   "source": [
    "#SW has normal distribution so it is filling with mean"
   ]
  },
  {
   "cell_type": "code",
   "execution_count": 15,
   "id": "7908fbb2",
   "metadata": {},
   "outputs": [
    {
     "name": "stdout",
     "output_type": "stream",
     "text": [
      "Number of null values in SW column:  0\n"
     ]
    }
   ],
   "source": [
    "data['SW']=data['SW'].fillna(data['SW'].mean())\n",
    "data.isnull().sum()\n",
    "print('Number of null values in SW column: ', data['SW'].isnull().sum())"
   ]
  },
  {
   "cell_type": "code",
   "execution_count": 16,
   "id": "c34da023",
   "metadata": {},
   "outputs": [],
   "source": [
    "#SL and Pl has skewed distribution so it is filling with median values."
   ]
  },
  {
   "cell_type": "code",
   "execution_count": 17,
   "id": "2014f39c",
   "metadata": {},
   "outputs": [
    {
     "name": "stdout",
     "output_type": "stream",
     "text": [
      "Number of null values in SL column:  0\n",
      "Number of null values in PL column:  0\n"
     ]
    }
   ],
   "source": [
    "data['SL']=data['SL'].fillna(data['SL'].median())\n",
    "data.isnull().sum()\n",
    "print('Number of null values in SL column: ', data['SL'].isnull().sum())\n",
    "\n",
    "\n",
    "data['PL']=data['PL'].fillna(data['PL'].median())\n",
    "data.isnull().sum()\n",
    "print('Number of null values in PL column: ', data['PL'].isnull().sum())"
   ]
  },
  {
   "cell_type": "markdown",
   "id": "6034a266",
   "metadata": {},
   "source": [
    "INFERENCE:Missing values are filled."
   ]
  },
  {
   "cell_type": "markdown",
   "id": "62c2899f",
   "metadata": {},
   "source": [
    "### Checking for Outliers"
   ]
  },
  {
   "cell_type": "code",
   "execution_count": 20,
   "id": "0c7abbac",
   "metadata": {},
   "outputs": [
    {
     "data": {
      "image/png": "[encoded data removed]",
      "text/plain": [
       "<Figure size 640x480 with 1 Axes>"
      ]
     },
     "metadata": {},
     "output_type": "display_data"
    },
    {
     "data": {
      "text/plain": [
       "<Figure size 600x500 with 0 Axes>"
      ]
     },
     "metadata": {},
     "output_type": "display_data"
    },
    {
     "data": {
      "image/png": "[encoded data removed]",
      "text/plain": [
       "<Figure size 640x480 with 1 Axes>"
      ]
     },
     "metadata": {},
     "output_type": "display_data"
    },
    {
     "data": {
      "text/plain": [
       "<Figure size 600x500 with 0 Axes>"
      ]
     },
     "metadata": {},
     "output_type": "display_data"
    },
    {
     "data": {
      "image/png": "[encoded data removed]",
      "text/plain": [
       "<Figure size 640x480 with 1 Axes>"
      ]
     },
     "metadata": {},
     "output_type": "display_data"
    },
    {
     "data": {
      "text/plain": [
       "<Figure size 600x500 with 0 Axes>"
      ]
     },
     "metadata": {},
     "output_type": "display_data"
    },
    {
     "data": {
      "image/png": "[encoded data removed]",
      "text/plain": [
       "<Figure size 640x480 with 1 Axes>"
      ]
     },
     "metadata": {},
     "output_type": "display_data"
    },
    {
     "data": {
      "text/plain": [
       "<Figure size 600x500 with 0 Axes>"
      ]
     },
     "metadata": {},
     "output_type": "display_data"
    }
   ],
   "source": [
    "for feature in numerical_features:\n",
    "    \n",
    "    plt.boxplot(data[feature])\n",
    "    plt.title(feature)\n",
    "    plt.figure(figsize=(6,5))\n",
    "    plt.show()"
   ]
  },
  {
   "cell_type": "markdown",
   "id": "257feb07",
   "metadata": {},
   "source": [
    "INFERENCE:It is shown that SW has outliers."
   ]
  },
  {
   "cell_type": "markdown",
   "id": "9569b780",
   "metadata": {},
   "source": [
    "#### Dealing with outliers in SW."
   ]
  },
  {
   "cell_type": "code",
   "execution_count": 22,
   "id": "336b8518",
   "metadata": {},
   "outputs": [
    {
     "name": "stdout",
     "output_type": "stream",
     "text": [
      "2.8\n",
      "3.0\n",
      "3.25\n"
     ]
    }
   ],
   "source": [
    "Q1=np.percentile(data['SW'],25,interpolation='midpoint')\n",
    "Q2=np.percentile(data['SW'],50,interpolation='midpoint')\n",
    "Q3=np.percentile(data['SW'],75,interpolation='midpoint')\n",
    "print(Q1)\n",
    "print(Q2)\n",
    "print(Q3)\n"
   ]
  },
  {
   "cell_type": "code",
   "execution_count": 23,
   "id": "36a602ae",
   "metadata": {},
   "outputs": [
    {
     "name": "stdout",
     "output_type": "stream",
     "text": [
      "IQR is :  0.4500000000000002\n",
      "Lower Limit is : 2.1249999999999996\n",
      "Upper limit is:  3.9250000000000003\n"
     ]
    }
   ],
   "source": [
    "IQR= Q3 - Q1\n",
    "low_lim = Q1 - 1.5* IQR\n",
    "up_lim = Q3 + 1.5 * IQR\n",
    "print(\"IQR is : \",IQR)\n",
    "print(\"Lower Limit is :\",low_lim)\n",
    "print(\"Upper limit is: \",up_lim)"
   ]
  },
  {
   "cell_type": "code",
   "execution_count": 39,
   "id": "95b14f9b",
   "metadata": {},
   "outputs": [
    {
     "data": {
      "text/html": [
       "<div>\n",
       "<style scoped>\n",
       "    .dataframe tbody tr th:only-of-type {\n",
       "        vertical-align: middle;\n",
       "    }\n",
       "\n",
       "    .dataframe tbody tr th {\n",
       "        vertical-align: top;\n",
       "    }\n",
       "\n",
       "    .dataframe thead th {\n",
       "        text-align: right;\n",
       "    }\n",
       "</style>\n",
       "<table border=\"1\" class=\"dataframe\">\n",
       "  <thead>\n",
       "    <tr style=\"text-align: right;\">\n",
       "      <th></th>\n",
       "      <th>SL</th>\n",
       "      <th>SW</th>\n",
       "      <th>PL</th>\n",
       "      <th>PW</th>\n",
       "      <th>Classification</th>\n",
       "    </tr>\n",
       "  </thead>\n",
       "  <tbody>\n",
       "    <tr>\n",
       "      <th>14</th>\n",
       "      <td>5.8</td>\n",
       "      <td>4.0</td>\n",
       "      <td>1.2</td>\n",
       "      <td>0.2</td>\n",
       "      <td>Iris-setosa</td>\n",
       "    </tr>\n",
       "    <tr>\n",
       "      <th>15</th>\n",
       "      <td>5.7</td>\n",
       "      <td>4.4</td>\n",
       "      <td>1.5</td>\n",
       "      <td>0.4</td>\n",
       "      <td>Iris-setosa</td>\n",
       "    </tr>\n",
       "    <tr>\n",
       "      <th>32</th>\n",
       "      <td>5.2</td>\n",
       "      <td>4.1</td>\n",
       "      <td>1.5</td>\n",
       "      <td>0.1</td>\n",
       "      <td>Iris-setosa</td>\n",
       "    </tr>\n",
       "    <tr>\n",
       "      <th>33</th>\n",
       "      <td>5.5</td>\n",
       "      <td>4.2</td>\n",
       "      <td>1.4</td>\n",
       "      <td>0.2</td>\n",
       "      <td>Iris-setosa</td>\n",
       "    </tr>\n",
       "    <tr>\n",
       "      <th>60</th>\n",
       "      <td>5.0</td>\n",
       "      <td>2.0</td>\n",
       "      <td>3.5</td>\n",
       "      <td>1.0</td>\n",
       "      <td>Iris-versicolor</td>\n",
       "    </tr>\n",
       "  </tbody>\n",
       "</table>\n",
       "</div>"
      ],
      "text/plain": [
       "     SL   SW   PL   PW   Classification\n",
       "14  5.8  4.0  1.2  0.2      Iris-setosa\n",
       "15  5.7  4.4  1.5  0.4      Iris-setosa\n",
       "32  5.2  4.1  1.5  0.1      Iris-setosa\n",
       "33  5.5  4.2  1.4  0.2      Iris-setosa\n",
       "60  5.0  2.0  3.5  1.0  Iris-versicolor"
      ]
     },
     "execution_count": 39,
     "metadata": {},
     "output_type": "execute_result"
    }
   ],
   "source": [
    "#Finding the outlier values.\n",
    "\n",
    "data[(data['SW'] > up_lim) ^ (data['SW'] < low_lim)]\n"
   ]
  },
  {
   "cell_type": "markdown",
   "id": "588e9d56",
   "metadata": {},
   "source": [
    "INFERENCE:14,15,32,33,60 are the index values of outliers."
   ]
  },
  {
   "cell_type": "code",
   "execution_count": 41,
   "id": "68552183",
   "metadata": {},
   "outputs": [],
   "source": [
    "#Dropping the outliers.\n",
    "\n",
    "data=data.drop([14, 15, 32, 33,60])"
   ]
  },
  {
   "cell_type": "code",
   "execution_count": 43,
   "id": "0c468674",
   "metadata": {},
   "outputs": [
    {
     "data": {
      "text/plain": [
       "(145, 5)"
      ]
     },
     "execution_count": 43,
     "metadata": {},
     "output_type": "execute_result"
    }
   ],
   "source": [
    "data.shape                  #Outliers were removed."
   ]
  },
  {
   "cell_type": "markdown",
   "id": "20b378ac",
   "metadata": {},
   "source": [
    "### Checking the Correlation."
   ]
  },
  {
   "cell_type": "code",
   "execution_count": 49,
   "id": "34827476",
   "metadata": {},
   "outputs": [
    {
     "data": {
      "image/png": "[encoded data removed]",
      "text/plain": [
       "<Figure size 640x480 with 2 Axes>"
      ]
     },
     "metadata": {},
     "output_type": "display_data"
    }
   ],
   "source": [
    "corrmatrix=data.corr()\n",
    "\n",
    "sns.heatmap(corrmatrix,vmax=0.93,vmin=-0.37,annot=True)\n",
    "plt.show()"
   ]
  },
  {
   "cell_type": "markdown",
   "id": "23b8af55",
   "metadata": {},
   "source": [
    "INFERENCE:PL and PW (0.93)has highest positive correlation values and PL and SW (-0.37) has highest negative correlation values."
   ]
  },
  {
   "cell_type": "markdown",
   "id": "a645bda5",
   "metadata": {},
   "source": [
    "### Label Encoding the classification column."
   ]
  },
  {
   "cell_type": "code",
   "execution_count": 56,
   "id": "2d612314",
   "metadata": {},
   "outputs": [],
   "source": [
    "#importing the library\n",
    "from sklearn.preprocessing import LabelEncoder\n",
    "\n",
    "#creating an instance\n",
    "le=LabelEncoder()\n",
    "\n",
    "#encoding\n",
    "data['Classification']=le.fit_transform(data['Classification'])"
   ]
  },
  {
   "cell_type": "code",
   "execution_count": 60,
   "id": "f0b97354",
   "metadata": {},
   "outputs": [
    {
     "data": {
      "text/html": [
       "<div>\n",
       "<style scoped>\n",
       "    .dataframe tbody tr th:only-of-type {\n",
       "        vertical-align: middle;\n",
       "    }\n",
       "\n",
       "    .dataframe tbody tr th {\n",
       "        vertical-align: top;\n",
       "    }\n",
       "\n",
       "    .dataframe thead th {\n",
       "        text-align: right;\n",
       "    }\n",
       "</style>\n",
       "<table border=\"1\" class=\"dataframe\">\n",
       "  <thead>\n",
       "    <tr style=\"text-align: right;\">\n",
       "      <th></th>\n",
       "      <th>SL</th>\n",
       "      <th>SW</th>\n",
       "      <th>PL</th>\n",
       "      <th>PW</th>\n",
       "      <th>Classification</th>\n",
       "    </tr>\n",
       "  </thead>\n",
       "  <tbody>\n",
       "    <tr>\n",
       "      <th>0</th>\n",
       "      <td>5.1</td>\n",
       "      <td>3.5</td>\n",
       "      <td>1.4</td>\n",
       "      <td>0.2</td>\n",
       "      <td>0</td>\n",
       "    </tr>\n",
       "    <tr>\n",
       "      <th>1</th>\n",
       "      <td>4.9</td>\n",
       "      <td>3.0</td>\n",
       "      <td>1.4</td>\n",
       "      <td>0.2</td>\n",
       "      <td>0</td>\n",
       "    </tr>\n",
       "    <tr>\n",
       "      <th>2</th>\n",
       "      <td>5.8</td>\n",
       "      <td>3.2</td>\n",
       "      <td>1.3</td>\n",
       "      <td>0.2</td>\n",
       "      <td>0</td>\n",
       "    </tr>\n",
       "    <tr>\n",
       "      <th>3</th>\n",
       "      <td>4.6</td>\n",
       "      <td>3.1</td>\n",
       "      <td>1.5</td>\n",
       "      <td>0.2</td>\n",
       "      <td>0</td>\n",
       "    </tr>\n",
       "    <tr>\n",
       "      <th>4</th>\n",
       "      <td>5.0</td>\n",
       "      <td>3.6</td>\n",
       "      <td>1.4</td>\n",
       "      <td>0.2</td>\n",
       "      <td>0</td>\n",
       "    </tr>\n",
       "    <tr>\n",
       "      <th>5</th>\n",
       "      <td>5.4</td>\n",
       "      <td>3.9</td>\n",
       "      <td>1.7</td>\n",
       "      <td>0.4</td>\n",
       "      <td>0</td>\n",
       "    </tr>\n",
       "  </tbody>\n",
       "</table>\n",
       "</div>"
      ],
      "text/plain": [
       "    SL   SW   PL   PW  Classification\n",
       "0  5.1  3.5  1.4  0.2               0\n",
       "1  4.9  3.0  1.4  0.2               0\n",
       "2  5.8  3.2  1.3  0.2               0\n",
       "3  4.6  3.1  1.5  0.2               0\n",
       "4  5.0  3.6  1.4  0.2               0\n",
       "5  5.4  3.9  1.7  0.4               0"
      ]
     },
     "execution_count": 60,
     "metadata": {},
     "output_type": "execute_result"
    }
   ],
   "source": [
    "data.head(6)"
   ]
  },
  {
   "cell_type": "markdown",
   "id": "dcc95d51",
   "metadata": {},
   "source": [
    "INFERENCE:Classification is encoded in to Iris-setosa = 0, Iris-versicolor = 1, Iris-virginica = 2 "
   ]
  },
  {
   "cell_type": "markdown",
   "id": "c9fc6431",
   "metadata": {},
   "source": [
    "## Finding out which classification model gives the best result."
   ]
  },
  {
   "cell_type": "code",
   "execution_count": 62,
   "id": "39558b26",
   "metadata": {},
   "outputs": [],
   "source": [
    "#splitting the dataset into target and features\n",
    "y=data['Classification']\n",
    "x=data.drop('Classification',axis=1)"
   ]
  },
  {
   "cell_type": "code",
   "execution_count": 63,
   "id": "8ea61806",
   "metadata": {},
   "outputs": [],
   "source": [
    "#Splitting the dataset into training and testing data.\n",
    "\n",
    "from sklearn.model_selection import train_test_split\n",
    "\n",
    "x_train,x_test,y_train,y_test=train_test_split(x,y,test_size=0.2,random_state=42)"
   ]
  },
  {
   "cell_type": "markdown",
   "id": "48d53beb",
   "metadata": {},
   "source": [
    "## Model Creation."
   ]
  },
  {
   "cell_type": "markdown",
   "id": "ad9a829f",
   "metadata": {},
   "source": [
    "## 1.Logistic Regression"
   ]
  },
  {
   "cell_type": "code",
   "execution_count": 65,
   "id": "0d474737",
   "metadata": {},
   "outputs": [],
   "source": [
    "#importing the libraries.\n",
    "from sklearn.linear_model import LogisticRegression\n",
    "\n",
    "#creating an instance.\n",
    "lr=LogisticRegression()\n",
    "\n",
    "#Fitting the model\n",
    "lr.fit(x_train, y_train)\n",
    "\n",
    "#Predicting\n",
    "y_pred_lr = lr.predict(x_test)"
   ]
  },
  {
   "cell_type": "markdown",
   "id": "f9f305ff",
   "metadata": {},
   "source": [
    "#### Evaluation of the model created"
   ]
  },
  {
   "cell_type": "code",
   "execution_count": 75,
   "id": "e06f2f01",
   "metadata": {},
   "outputs": [
    {
     "data": {
      "image/png": "[encoded data removed]",
      "text/plain": [
       "<Figure size 500x400 with 2 Axes>"
      ]
     },
     "metadata": {},
     "output_type": "display_data"
    }
   ],
   "source": [
    "#importing the library.\n",
    "from sklearn.metrics import confusion_matrix,precision_score,accuracy_score,recall_score,f1_score\n",
    "\n",
    "#Confusion matrix\n",
    "cnf_matrix =confusion_matrix(y_test, y_pred_lr)\n",
    "plt.figure(figsize=(5,4))\n",
    "p = sns.heatmap(pd.DataFrame(cnf_matrix), annot=True, cmap=\"YlGnBu\" ,fmt='g')\n",
    "plt.title('Confusion matrix', y=1.1)\n",
    "plt.ylabel('Actual label')\n",
    "plt.xlabel('Predicted label')\n",
    "plt.show()"
   ]
  },
  {
   "cell_type": "code",
   "execution_count": 69,
   "id": "bdd5a723",
   "metadata": {},
   "outputs": [
    {
     "name": "stdout",
     "output_type": "stream",
     "text": [
      "The accuracy of logistic regression is 0.9310344827586207\n",
      "Precision : 0.9310344827586207\n",
      "Recall : 0.9310344827586207\n",
      "F1 Score : 0.9310344827586207\n"
     ]
    }
   ],
   "source": [
    "print('The accuracy of logistic regression model is',accuracy_score(y_test,y_pred_lr))\n",
    "print(\"Precision :\",precision_score(y_test,y_pred_lr,average = 'weighted'))\n",
    "print(\"Recall :\",recall_score(y_test,y_pred_lr,average = 'weighted'))\n",
    "print(\"F1 Score :\",f1_score(y_test,y_pred_lr,average = 'weighted'))"
   ]
  },
  {
   "cell_type": "markdown",
   "id": "0b9b1a2c",
   "metadata": {},
   "source": [
    "## 2.KNN Classification "
   ]
  },
  {
   "cell_type": "code",
   "execution_count": 82,
   "id": "fb90a9c0",
   "metadata": {},
   "outputs": [
    {
     "name": "stderr",
     "output_type": "stream",
     "text": [
      "C:\\Users\\HP\\anaconda3\\lib\\site-packages\\sklearn\\neighbors\\_classification.py:228: FutureWarning: Unlike other reduction functions (e.g. `skew`, `kurtosis`), the default behavior of `mode` typically preserves the axis it acts along. In SciPy 1.11.0, this behavior will change: the default value of `keepdims` will become False, the `axis` over which the statistic is taken will be eliminated, and the value None will no longer be accepted. Set `keepdims` to True or False to avoid this warning.\n",
      "  mode, _ = stats.mode(_y[neigh_ind, k], axis=1)\n",
      "C:\\Users\\HP\\anaconda3\\lib\\site-packages\\sklearn\\neighbors\\_classification.py:228: FutureWarning: Unlike other reduction functions (e.g. `skew`, `kurtosis`), the default behavior of `mode` typically preserves the axis it acts along. In SciPy 1.11.0, this behavior will change: the default value of `keepdims` will become False, the `axis` over which the statistic is taken will be eliminated, and the value None will no longer be accepted. Set `keepdims` to True or False to avoid this warning.\n",
      "  mode, _ = stats.mode(_y[neigh_ind, k], axis=1)\n",
      "C:\\Users\\HP\\anaconda3\\lib\\site-packages\\sklearn\\neighbors\\_classification.py:228: FutureWarning: Unlike other reduction functions (e.g. `skew`, `kurtosis`), the default behavior of `mode` typically preserves the axis it acts along. In SciPy 1.11.0, this behavior will change: the default value of `keepdims` will become False, the `axis` over which the statistic is taken will be eliminated, and the value None will no longer be accepted. Set `keepdims` to True or False to avoid this warning.\n",
      "  mode, _ = stats.mode(_y[neigh_ind, k], axis=1)\n",
      "C:\\Users\\HP\\anaconda3\\lib\\site-packages\\sklearn\\neighbors\\_classification.py:228: FutureWarning: Unlike other reduction functions (e.g. `skew`, `kurtosis`), the default behavior of `mode` typically preserves the axis it acts along. In SciPy 1.11.0, this behavior will change: the default value of `keepdims` will become False, the `axis` over which the statistic is taken will be eliminated, and the value None will no longer be accepted. Set `keepdims` to True or False to avoid this warning.\n",
      "  mode, _ = stats.mode(_y[neigh_ind, k], axis=1)\n",
      "C:\\Users\\HP\\anaconda3\\lib\\site-packages\\sklearn\\neighbors\\_classification.py:228: FutureWarning: Unlike other reduction functions (e.g. `skew`, `kurtosis`), the default behavior of `mode` typically preserves the axis it acts along. In SciPy 1.11.0, this behavior will change: the default value of `keepdims` will become False, the `axis` over which the statistic is taken will be eliminated, and the value None will no longer be accepted. Set `keepdims` to True or False to avoid this warning.\n",
      "  mode, _ = stats.mode(_y[neigh_ind, k], axis=1)\n",
      "C:\\Users\\HP\\anaconda3\\lib\\site-packages\\sklearn\\neighbors\\_classification.py:228: FutureWarning: Unlike other reduction functions (e.g. `skew`, `kurtosis`), the default behavior of `mode` typically preserves the axis it acts along. In SciPy 1.11.0, this behavior will change: the default value of `keepdims` will become False, the `axis` over which the statistic is taken will be eliminated, and the value None will no longer be accepted. Set `keepdims` to True or False to avoid this warning.\n",
      "  mode, _ = stats.mode(_y[neigh_ind, k], axis=1)\n",
      "C:\\Users\\HP\\anaconda3\\lib\\site-packages\\sklearn\\neighbors\\_classification.py:228: FutureWarning: Unlike other reduction functions (e.g. `skew`, `kurtosis`), the default behavior of `mode` typically preserves the axis it acts along. In SciPy 1.11.0, this behavior will change: the default value of `keepdims` will become False, the `axis` over which the statistic is taken will be eliminated, and the value None will no longer be accepted. Set `keepdims` to True or False to avoid this warning.\n",
      "  mode, _ = stats.mode(_y[neigh_ind, k], axis=1)\n",
      "C:\\Users\\HP\\anaconda3\\lib\\site-packages\\sklearn\\neighbors\\_classification.py:228: FutureWarning: Unlike other reduction functions (e.g. `skew`, `kurtosis`), the default behavior of `mode` typically preserves the axis it acts along. In SciPy 1.11.0, this behavior will change: the default value of `keepdims` will become False, the `axis` over which the statistic is taken will be eliminated, and the value None will no longer be accepted. Set `keepdims` to True or False to avoid this warning.\n",
      "  mode, _ = stats.mode(_y[neigh_ind, k], axis=1)\n",
      "C:\\Users\\HP\\anaconda3\\lib\\site-packages\\sklearn\\neighbors\\_classification.py:228: FutureWarning: Unlike other reduction functions (e.g. `skew`, `kurtosis`), the default behavior of `mode` typically preserves the axis it acts along. In SciPy 1.11.0, this behavior will change: the default value of `keepdims` will become False, the `axis` over which the statistic is taken will be eliminated, and the value None will no longer be accepted. Set `keepdims` to True or False to avoid this warning.\n",
      "  mode, _ = stats.mode(_y[neigh_ind, k], axis=1)\n",
      "C:\\Users\\HP\\anaconda3\\lib\\site-packages\\sklearn\\neighbors\\_classification.py:228: FutureWarning: Unlike other reduction functions (e.g. `skew`, `kurtosis`), the default behavior of `mode` typically preserves the axis it acts along. In SciPy 1.11.0, this behavior will change: the default value of `keepdims` will become False, the `axis` over which the statistic is taken will be eliminated, and the value None will no longer be accepted. Set `keepdims` to True or False to avoid this warning.\n",
      "  mode, _ = stats.mode(_y[neigh_ind, k], axis=1)\n",
      "C:\\Users\\HP\\anaconda3\\lib\\site-packages\\sklearn\\neighbors\\_classification.py:228: FutureWarning: Unlike other reduction functions (e.g. `skew`, `kurtosis`), the default behavior of `mode` typically preserves the axis it acts along. In SciPy 1.11.0, this behavior will change: the default value of `keepdims` will become False, the `axis` over which the statistic is taken will be eliminated, and the value None will no longer be accepted. Set `keepdims` to True or False to avoid this warning.\n",
      "  mode, _ = stats.mode(_y[neigh_ind, k], axis=1)\n",
      "C:\\Users\\HP\\anaconda3\\lib\\site-packages\\sklearn\\neighbors\\_classification.py:228: FutureWarning: Unlike other reduction functions (e.g. `skew`, `kurtosis`), the default behavior of `mode` typically preserves the axis it acts along. In SciPy 1.11.0, this behavior will change: the default value of `keepdims` will become False, the `axis` over which the statistic is taken will be eliminated, and the value None will no longer be accepted. Set `keepdims` to True or False to avoid this warning.\n",
      "  mode, _ = stats.mode(_y[neigh_ind, k], axis=1)\n",
      "C:\\Users\\HP\\anaconda3\\lib\\site-packages\\sklearn\\neighbors\\_classification.py:228: FutureWarning: Unlike other reduction functions (e.g. `skew`, `kurtosis`), the default behavior of `mode` typically preserves the axis it acts along. In SciPy 1.11.0, this behavior will change: the default value of `keepdims` will become False, the `axis` over which the statistic is taken will be eliminated, and the value None will no longer be accepted. Set `keepdims` to True or False to avoid this warning.\n",
      "  mode, _ = stats.mode(_y[neigh_ind, k], axis=1)\n",
      "C:\\Users\\HP\\anaconda3\\lib\\site-packages\\sklearn\\neighbors\\_classification.py:228: FutureWarning: Unlike other reduction functions (e.g. `skew`, `kurtosis`), the default behavior of `mode` typically preserves the axis it acts along. In SciPy 1.11.0, this behavior will change: the default value of `keepdims` will become False, the `axis` over which the statistic is taken will be eliminated, and the value None will no longer be accepted. Set `keepdims` to True or False to avoid this warning.\n",
      "  mode, _ = stats.mode(_y[neigh_ind, k], axis=1)\n",
      "C:\\Users\\HP\\anaconda3\\lib\\site-packages\\sklearn\\neighbors\\_classification.py:228: FutureWarning: Unlike other reduction functions (e.g. `skew`, `kurtosis`), the default behavior of `mode` typically preserves the axis it acts along. In SciPy 1.11.0, this behavior will change: the default value of `keepdims` will become False, the `axis` over which the statistic is taken will be eliminated, and the value None will no longer be accepted. Set `keepdims` to True or False to avoid this warning.\n",
      "  mode, _ = stats.mode(_y[neigh_ind, k], axis=1)\n",
      "C:\\Users\\HP\\anaconda3\\lib\\site-packages\\sklearn\\neighbors\\_classification.py:228: FutureWarning: Unlike other reduction functions (e.g. `skew`, `kurtosis`), the default behavior of `mode` typically preserves the axis it acts along. In SciPy 1.11.0, this behavior will change: the default value of `keepdims` will become False, the `axis` over which the statistic is taken will be eliminated, and the value None will no longer be accepted. Set `keepdims` to True or False to avoid this warning.\n",
      "  mode, _ = stats.mode(_y[neigh_ind, k], axis=1)\n",
      "C:\\Users\\HP\\anaconda3\\lib\\site-packages\\sklearn\\neighbors\\_classification.py:228: FutureWarning: Unlike other reduction functions (e.g. `skew`, `kurtosis`), the default behavior of `mode` typically preserves the axis it acts along. In SciPy 1.11.0, this behavior will change: the default value of `keepdims` will become False, the `axis` over which the statistic is taken will be eliminated, and the value None will no longer be accepted. Set `keepdims` to True or False to avoid this warning.\n",
      "  mode, _ = stats.mode(_y[neigh_ind, k], axis=1)\n",
      "C:\\Users\\HP\\anaconda3\\lib\\site-packages\\sklearn\\neighbors\\_classification.py:228: FutureWarning: Unlike other reduction functions (e.g. `skew`, `kurtosis`), the default behavior of `mode` typically preserves the axis it acts along. In SciPy 1.11.0, this behavior will change: the default value of `keepdims` will become False, the `axis` over which the statistic is taken will be eliminated, and the value None will no longer be accepted. Set `keepdims` to True or False to avoid this warning.\n",
      "  mode, _ = stats.mode(_y[neigh_ind, k], axis=1)\n",
      "C:\\Users\\HP\\anaconda3\\lib\\site-packages\\sklearn\\neighbors\\_classification.py:228: FutureWarning: Unlike other reduction functions (e.g. `skew`, `kurtosis`), the default behavior of `mode` typically preserves the axis it acts along. In SciPy 1.11.0, this behavior will change: the default value of `keepdims` will become False, the `axis` over which the statistic is taken will be eliminated, and the value None will no longer be accepted. Set `keepdims` to True or False to avoid this warning.\n",
      "  mode, _ = stats.mode(_y[neigh_ind, k], axis=1)\n"
     ]
    }
   ],
   "source": [
    "#Importing the library\n",
    "from sklearn.neighbors import KNeighborsClassifier\n",
    "\n",
    "#Finding the best K value for kNN \n",
    "metric_k=[]  \n",
    "neighbors=range(1,20)  \n",
    "\n",
    "for k in neighbors:\n",
    "    classifier=KNeighborsClassifier(n_neighbors=k)\n",
    "    classifier=classifier.fit(x_train,y_train)\n",
    "    pred_kNN=classifier.predict(x_test)\n",
    "    acc=accuracy_score(y_test,pred_kNN) \n",
    "    metric_k.append(acc) "
   ]
  },
  {
   "cell_type": "code",
   "execution_count": 83,
   "id": "c9aa8fa4",
   "metadata": {},
   "outputs": [
    {
     "data": {
      "image/png": "[encoded data removed]",
      "text/plain": [
       "<Figure size 640x480 with 1 Axes>"
      ]
     },
     "metadata": {},
     "output_type": "display_data"
    }
   ],
   "source": [
    "#ploting to find the  k value that gives best accuracy \n",
    "\n",
    "plt.plot(neighbors,metric_k,'o-')  \n",
    "plt.xlabel('k values')\n",
    "plt.ylabel('accuracy')\n",
    "plt.grid() "
   ]
  },
  {
   "cell_type": "code",
   "execution_count": 85,
   "id": "bbb4d9d7",
   "metadata": {},
   "outputs": [
    {
     "name": "stderr",
     "output_type": "stream",
     "text": [
      "C:\\Users\\HP\\anaconda3\\lib\\site-packages\\sklearn\\neighbors\\_classification.py:228: FutureWarning: Unlike other reduction functions (e.g. `skew`, `kurtosis`), the default behavior of `mode` typically preserves the axis it acts along. In SciPy 1.11.0, this behavior will change: the default value of `keepdims` will become False, the `axis` over which the statistic is taken will be eliminated, and the value None will no longer be accepted. Set `keepdims` to True or False to avoid this warning.\n",
      "  mode, _ = stats.mode(_y[neigh_ind, k], axis=1)\n"
     ]
    }
   ],
   "source": [
    "#There are many values which can be considere as k value as many gives same accuracy\n",
    "#Lets take k as 15 here\n",
    "\n",
    "#Creating an instance\n",
    "knn=KNeighborsClassifier(n_neighbors=15)\n",
    "#Fit the model\n",
    "knn.fit(x_train,y_train)\n",
    "\n",
    "#Prediction\n",
    "y_pred_knn=knn.predict(x_test)"
   ]
  },
  {
   "cell_type": "markdown",
   "id": "b45a0cdf",
   "metadata": {},
   "source": [
    "### Evaluation of model created."
   ]
  },
  {
   "cell_type": "code",
   "execution_count": 86,
   "id": "e2c1b255",
   "metadata": {},
   "outputs": [
    {
     "data": {
      "image/png": "[encoded data removed]",
      "text/plain": [
       "<Figure size 500x400 with 2 Axes>"
      ]
     },
     "metadata": {},
     "output_type": "display_data"
    }
   ],
   "source": [
    "#Confusion matrix\n",
    "cnf_matrix =confusion_matrix(y_test, y_pred_knn)\n",
    "plt.figure(figsize=(5,4))\n",
    "p = sns.heatmap(pd.DataFrame(cnf_matrix), annot=True, cmap=\"YlGnBu\" ,fmt='g')\n",
    "plt.title('Confusion matrix', y=1.1)\n",
    "plt.ylabel('Actual label')\n",
    "plt.xlabel('Predicted label')\n",
    "plt.show()"
   ]
  },
  {
   "cell_type": "code",
   "execution_count": 87,
   "id": "61a11dd4",
   "metadata": {},
   "outputs": [
    {
     "name": "stdout",
     "output_type": "stream",
     "text": [
      "The accuracy of KNN model is 0.9310344827586207\n",
      "Precision : 0.9310344827586207\n",
      "Recall : 0.9310344827586207\n",
      "F1 Score : 0.9310344827586207\n"
     ]
    }
   ],
   "source": [
    "print('The accuracy of KNN model is',accuracy_score(y_test,y_pred_knn))\n",
    "print(\"Precision :\",precision_score(y_test,y_pred_knn,average = 'weighted'))\n",
    "print(\"Recall :\",recall_score(y_test,y_pred_knn,average = 'weighted'))\n",
    "print(\"F1 Score :\",f1_score(y_test,y_pred_knn,average = 'weighted'))"
   ]
  },
  {
   "cell_type": "markdown",
   "id": "732e9cc8",
   "metadata": {},
   "source": [
    "# 3.Support Vector Machine Model of Classification (SVC)"
   ]
  },
  {
   "cell_type": "code",
   "execution_count": 90,
   "id": "1a14efbf",
   "metadata": {},
   "outputs": [],
   "source": [
    "#importing the necessary library\n",
    "from sklearn.svm import SVC"
   ]
  },
  {
   "cell_type": "markdown",
   "id": "b1b347a1",
   "metadata": {},
   "source": [
    "### a.SVC model with linear as kernel."
   ]
  },
  {
   "cell_type": "code",
   "execution_count": 92,
   "id": "23705073",
   "metadata": {},
   "outputs": [],
   "source": [
    "#Creating an instance\n",
    "svm_linear=SVC(kernel='linear')\n",
    "\n",
    "#Fitting the model\n",
    "svm_linear.fit(x_train,y_train)\n",
    "\n",
    "#Predicting\n",
    "y_pred_svml=svm_linear.predict(x_test)"
   ]
  },
  {
   "cell_type": "markdown",
   "id": "5935abaa",
   "metadata": {},
   "source": [
    "### Evaluation of model created."
   ]
  },
  {
   "cell_type": "code",
   "execution_count": 93,
   "id": "b22994ac",
   "metadata": {},
   "outputs": [
    {
     "data": {
      "image/png": "[encoded data removed]",
      "text/plain": [
       "<Figure size 500x400 with 2 Axes>"
      ]
     },
     "metadata": {},
     "output_type": "display_data"
    }
   ],
   "source": [
    "#Confusion matrix\n",
    "cnf_matrix =confusion_matrix(y_test, y_pred_svml)\n",
    "plt.figure(figsize=(5,4))\n",
    "p = sns.heatmap(pd.DataFrame(cnf_matrix), annot=True, cmap=\"YlGnBu\" ,fmt='g')\n",
    "plt.title('Confusion matrix', y=1.1)\n",
    "plt.ylabel('Actual label')\n",
    "plt.xlabel('Predicted label')\n",
    "plt.show()"
   ]
  },
  {
   "cell_type": "code",
   "execution_count": 94,
   "id": "de545aeb",
   "metadata": {},
   "outputs": [
    {
     "name": "stdout",
     "output_type": "stream",
     "text": [
      "The accuracy of SVC model using linear as kernel is 0.896551724137931\n",
      "Precision : 0.9\n",
      "Recall : 0.896551724137931\n",
      "F1 Score : 0.8968109929997409\n"
     ]
    }
   ],
   "source": [
    "print('The accuracy of SVC model using linear as kernel is',accuracy_score(y_test,y_pred_svml))\n",
    "print(\"Precision :\",precision_score(y_test,y_pred_svml,average = 'weighted'))\n",
    "print(\"Recall :\",recall_score(y_test,y_pred_svml,average = 'weighted'))\n",
    "print(\"F1 Score :\",f1_score(y_test,y_pred_svml,average = 'weighted'))"
   ]
  },
  {
   "cell_type": "markdown",
   "id": "d586f3c7",
   "metadata": {},
   "source": [
    "## b.SVC Model with Kernal as RBF(Radial Basis Function)"
   ]
  },
  {
   "cell_type": "code",
   "execution_count": 97,
   "id": "2708ec9f",
   "metadata": {},
   "outputs": [],
   "source": [
    "#creating an instance\n",
    "svm_rbf=SVC(kernel='rbf')\n",
    "\n",
    "#Fitting the model\n",
    "svm_rbf.fit(x_train,y_train)\n",
    "\n",
    "#Prediction\n",
    "y_pred_svmr=svm_rbf.predict(x_test)"
   ]
  },
  {
   "cell_type": "markdown",
   "id": "48e4ae2d",
   "metadata": {},
   "source": [
    "### Evaluation of model created."
   ]
  },
  {
   "cell_type": "code",
   "execution_count": 98,
   "id": "a3440f7c",
   "metadata": {},
   "outputs": [
    {
     "data": {
      "image/png": "[encoded data removed]",
      "text/plain": [
       "<Figure size 500x400 with 2 Axes>"
      ]
     },
     "metadata": {},
     "output_type": "display_data"
    }
   ],
   "source": [
    "#Confusion matrix\n",
    "cnf_matrix =confusion_matrix(y_test, y_pred_svmr)\n",
    "plt.figure(figsize=(5,4))\n",
    "p = sns.heatmap(pd.DataFrame(cnf_matrix), annot=True, cmap=\"YlGnBu\" ,fmt='g')\n",
    "plt.title('Confusion matrix', y=1.1)\n",
    "plt.ylabel('Actual label')\n",
    "plt.xlabel('Predicted label')\n",
    "plt.show()"
   ]
  },
  {
   "cell_type": "code",
   "execution_count": 99,
   "id": "dbf968b4",
   "metadata": {},
   "outputs": [
    {
     "name": "stdout",
     "output_type": "stream",
     "text": [
      "The accuracy of SVC model using rbf as kernel is 0.8620689655172413\n",
      "Precision : 0.8732149076976664\n",
      "Recall : 0.8620689655172413\n",
      "F1 Score : 0.8620689655172413\n"
     ]
    }
   ],
   "source": [
    "print('The accuracy of SVC model using rbf as kernel is',accuracy_score(y_test,y_pred_svmr))\n",
    "print(\"Precision :\",precision_score(y_test,y_pred_svmr,average = 'weighted'))\n",
    "print(\"Recall :\",recall_score(y_test,y_pred_svmr,average = 'weighted'))\n",
    "print(\"F1 Score :\",f1_score(y_test,y_pred_svmr,average = 'weighted'))"
   ]
  },
  {
   "cell_type": "markdown",
   "id": "52a512d4",
   "metadata": {},
   "source": [
    "# 4.Decision Tree Classifier."
   ]
  },
  {
   "cell_type": "code",
   "execution_count": 103,
   "id": "86e97ba7",
   "metadata": {},
   "outputs": [],
   "source": [
    "#importing the library\n",
    "from sklearn.tree import DecisionTreeClassifier\n",
    "\n",
    "#Create and instance\n",
    "dt_clf=DecisionTreeClassifier(max_depth=4,random_state=42)\n",
    "\n",
    "#Fit the model and do prediction\n",
    "dt_clf.fit(x_train,y_train)\n",
    "y_pred_dt=dt_clf.predict(x_test)"
   ]
  },
  {
   "cell_type": "markdown",
   "id": "f0d8086e",
   "metadata": {},
   "source": [
    "## Evaluation of model created"
   ]
  },
  {
   "cell_type": "code",
   "execution_count": 104,
   "id": "41dfe8d9",
   "metadata": {},
   "outputs": [
    {
     "data": {
      "image/png": "[encoded data removed]",
      "text/plain": [
       "<Figure size 500x400 with 2 Axes>"
      ]
     },
     "metadata": {},
     "output_type": "display_data"
    }
   ],
   "source": [
    "#Confusion matrix\n",
    "cnf_matrix =confusion_matrix(y_test, y_pred_dt)\n",
    "plt.figure(figsize=(5,4))\n",
    "p = sns.heatmap(pd.DataFrame(cnf_matrix), annot=True, cmap=\"YlGnBu\" ,fmt='g')\n",
    "plt.title('Confusion matrix', y=1.1)\n",
    "plt.ylabel('Actual label')\n",
    "plt.xlabel('Predicted label')\n",
    "plt.show()"
   ]
  },
  {
   "cell_type": "code",
   "execution_count": 106,
   "id": "62db9a19",
   "metadata": {},
   "outputs": [
    {
     "name": "stdout",
     "output_type": "stream",
     "text": [
      "The accuracy of Decision Tree Classifier is 0.896551724137931\n",
      "Precision : 0.9\n",
      "Recall : 0.896551724137931\n",
      "F1 Score : 0.8968109929997409\n"
     ]
    }
   ],
   "source": [
    "print('The accuracy of Decision Tree Classifier is',accuracy_score(y_test,y_pred_dt))\n",
    "print(\"Precision :\",precision_score(y_test,y_pred_dt,average = 'weighted'))\n",
    "print(\"Recall :\",recall_score(y_test,y_pred_dt,average = 'weighted'))\n",
    "print(\"F1 Score :\",f1_score(y_test,y_pred_dt,average = 'weighted'))"
   ]
  },
  {
   "cell_type": "markdown",
   "id": "05d44456",
   "metadata": {},
   "source": [
    "## 5.Random Forest Classifier"
   ]
  },
  {
   "cell_type": "code",
   "execution_count": 109,
   "id": "3cb266ce",
   "metadata": {},
   "outputs": [],
   "source": [
    "#importing the library\n",
    "from sklearn.ensemble import RandomForestClassifier\n",
    "\n",
    "#creating an instance\n",
    "rf_clf=RandomForestClassifier(n_estimators=100,random_state=42)\n",
    "\n",
    "#Fit the model\n",
    "rf_clf.fit(x_train,y_train)\n",
    "\n",
    "#Prediction\n",
    "y_pred_rf=rf_clf.predict(x_test)"
   ]
  },
  {
   "cell_type": "markdown",
   "id": "e812e9e2",
   "metadata": {},
   "source": [
    "### Evaluation of model created"
   ]
  },
  {
   "cell_type": "code",
   "execution_count": 110,
   "id": "d62fd61a",
   "metadata": {},
   "outputs": [
    {
     "data": {
      "image/png": "[encoded data removed]",
      "text/plain": [
       "<Figure size 500x400 with 2 Axes>"
      ]
     },
     "metadata": {},
     "output_type": "display_data"
    }
   ],
   "source": [
    "#Confusion matrix\n",
    "cnf_matrix =confusion_matrix(y_test, y_pred_rf)\n",
    "plt.figure(figsize=(5,4))\n",
    "p = sns.heatmap(pd.DataFrame(cnf_matrix), annot=True, cmap=\"YlGnBu\" ,fmt='g')\n",
    "plt.title('Confusion matrix', y=1.1)\n",
    "plt.ylabel('Actual label')\n",
    "plt.xlabel('Predicted label')\n",
    "plt.show()"
   ]
  },
  {
   "cell_type": "code",
   "execution_count": 111,
   "id": "b04685e6",
   "metadata": {},
   "outputs": [
    {
     "name": "stdout",
     "output_type": "stream",
     "text": [
      "The accuracy of Random Forest Classifier is 0.9310344827586207\n",
      "Precision : 0.9310344827586207\n",
      "Recall : 0.9310344827586207\n",
      "F1 Score : 0.9310344827586207\n"
     ]
    }
   ],
   "source": [
    "print('The accuracy of Random Forest Classifier is',accuracy_score(y_test,y_pred_rf))\n",
    "print(\"Precision :\",precision_score(y_test,y_pred_rf,average = 'weighted'))\n",
    "print(\"Recall :\",recall_score(y_test,y_pred_rf,average = 'weighted'))\n",
    "print(\"F1 Score :\",f1_score(y_test,y_pred_rf,average = 'weighted'))"
   ]
  },
  {
   "cell_type": "markdown",
   "id": "a7bef2fd",
   "metadata": {},
   "source": [
    "### Comparison of Models created."
   ]
  },
  {
   "cell_type": "code",
   "execution_count": 112,
   "id": "a494c88f",
   "metadata": {},
   "outputs": [
    {
     "name": "stdout",
     "output_type": "stream",
     "text": [
      "The accuracy of Logistic regression is 0.9310344827586207\n",
      "The accuracy of kNN model is 0.9310344827586207\n",
      "The accuracy of Support vector machine classifier  using linear kernal is 0.896551724137931\n",
      "The accuracy of Support vector machine classifier usning rbf kernal  is 0.8620689655172413\n",
      "The accuracy of Decision Tree Classifier is 0.896551724137931\n",
      "The accuracy of Random Forest Classifier is 0.9310344827586207\n"
     ]
    }
   ],
   "source": [
    "print('The accuracy of Logistic regression is',accuracy_score(y_test,y_pred_lr))\n",
    "print('The accuracy of kNN model is',accuracy_score(y_test,y_pred_knn))\n",
    "print('The accuracy of Support vector machine classifier  using linear kernal is',accuracy_score(y_test,y_pred_svml))\n",
    "print('The accuracy of Support vector machine classifier usning rbf kernal  is',accuracy_score(y_test,y_pred_svmr))\n",
    "print('The accuracy of Decision Tree Classifier is',accuracy_score(y_test,y_pred_dt))\n",
    "print('The accuracy of Random Forest Classifier is',accuracy_score(y_test,y_pred_rf))\n"
   ]
  },
  {
   "cell_type": "markdown",
   "id": "3884451f",
   "metadata": {},
   "source": [
    "INFERENCE:Logistic Regression model,Knn model,Random Forest classifier model has high accuracy.SVM models and Decision Tree has less accuracy."
   ]
  },
  {
   "cell_type": "markdown",
   "id": "908b3d91",
   "metadata": {},
   "source": [
    "Logistic Regression model,KNN model,Random Forest Classifier model gives the best result because it has high accuracy among others."
   ]
  },
  {
   "cell_type": "code",
   "execution_count": null,
   "id": "b39bbaa9",
   "metadata": {},
   "outputs": [],
   "source": []
  }
 ],
 "metadata": {
  "kernelspec": {
   "display_name": "Python 3 (ipykernel)",
   "language": "python",
   "name": "python3"
  },
  "language_info": {
   "codemirror_mode": {
    "name": "ipython",
    "version": 3
   },
   "file_extension": ".py",
   "mimetype": "text/x-python",
   "name": "python",
   "nbconvert_exporter": "python",
   "pygments_lexer": "ipython3",
   "version": "3.9.13"
  }
 },
 "nbformat": 4,
 "nbformat_minor": 5
}
